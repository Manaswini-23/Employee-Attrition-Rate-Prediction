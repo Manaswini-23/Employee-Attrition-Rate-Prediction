{
  "nbformat": 4,
  "nbformat_minor": 0,
  "metadata": {
    "colab": {
      "private_outputs": true,
      "provenance": []
    },
    "kernelspec": {
      "name": "python3",
      "display_name": "Python 3"
    },
    "language_info": {
      "name": "python"
    }
  },
  "cells": [
    {
      "cell_type": "code",
      "execution_count": null,
      "metadata": {
        "id": "GzzRwrFThG_y"
      },
      "outputs": [],
      "source": [
        "import numpy as np\n",
        "import pandas as pd\n",
        "import matplotlib.pyplot as plt\n",
        "import seaborn as sns\n",
        "%matplotlib inline"
      ]
    },
    {
      "cell_type": "code",
      "source": [
        "traindf = pd.read_csv('train_data.csv')\n",
        "testdf = pd.read_csv('test_data.csv')"
      ],
      "metadata": {
        "id": "Ck21Fi5ahsRx"
      },
      "execution_count": null,
      "outputs": []
    },
    {
      "cell_type": "code",
      "source": [
        "traindf.head()\n"
      ],
      "metadata": {
        "id": "29IkFbkSiuQd"
      },
      "execution_count": null,
      "outputs": []
    },
    {
      "cell_type": "code",
      "source": [
        "testdf.head()\n"
      ],
      "metadata": {
        "id": "Q6sOLA_Ciyx4"
      },
      "execution_count": null,
      "outputs": []
    },
    {
      "cell_type": "code",
      "source": [
        "traindf.isna().sum()\n"
      ],
      "metadata": {
        "id": "u8R0LKEFi6XE"
      },
      "execution_count": null,
      "outputs": []
    },
    {
      "cell_type": "code",
      "source": [
        "sns.heatmap(testdf.isnull(), yticklabels = False)\n"
      ],
      "metadata": {
        "id": "rdIVSoJTi9Ob"
      },
      "execution_count": null,
      "outputs": []
    },
    {
      "cell_type": "code",
      "source": [
        "from sklearn.preprocessing import LabelEncoder\n",
        "for column in traindf.columns:\n",
        "    if traindf[column].dtype == np.float64:\n",
        "        continue\n",
        "    traindf[column] = LabelEncoder().fit_transform(traindf[column])"
      ],
      "metadata": {
        "id": "6B-HMRTHjG3B"
      },
      "execution_count": null,
      "outputs": []
    },
    {
      "cell_type": "code",
      "source": [
        "'''\n",
        "for column in testdf.columns :\n",
        "    if testdf[column].dtype == np.number:\n",
        "        continue\n",
        "    testdf[column] = pd.get_dummies(testdf[column]) '''"
      ],
      "metadata": {
        "id": "VtG2LaUhjSmc"
      },
      "execution_count": null,
      "outputs": []
    },
    {
      "cell_type": "code",
      "source": [
        "cols = ['Id', 'EmployeeNumber', 'Behaviour']\n",
        "existing_cols = [col for col in cols if col in traindf.columns]\n",
        "traindf.drop(columns=existing_cols, axis=1, inplace=True)\n",
        "existing_cols_test = [col for col in cols if col in testdf.columns]\n",
        "testdf.drop(columns=existing_cols_test, axis=1, inplace=True)\n"
      ],
      "metadata": {
        "id": "SmiKqpeljd_R"
      },
      "execution_count": null,
      "outputs": []
    },
    {
      "cell_type": "code",
      "source": [
        "plt.figure(figsize=(14,14))\n",
        "sns.heatmap(traindf.corr(), annot=True, fmt='.0%')"
      ],
      "metadata": {
        "id": "5m9sxBYfjgmD"
      },
      "execution_count": null,
      "outputs": []
    },
    {
      "cell_type": "code",
      "source": [
        "from sklearn.model_selection import train_test_split\n",
        "\n",
        "X_train, X_test, y_train, y_test = train_test_split(traindf.drop('Attrition', axis=1),\n",
        "                                                   traindf['Attrition'], test_size = 0.30)"
      ],
      "metadata": {
        "id": "pFb7d9--joPY"
      },
      "execution_count": null,
      "outputs": []
    },
    {
      "cell_type": "code",
      "source": [
        "from sklearn.ensemble import RandomForestClassifier\n",
        "\n",
        "model = RandomForestClassifier(n_estimators=250, random_state=79)"
      ],
      "metadata": {
        "id": "4PhcGwJvjuRS"
      },
      "execution_count": null,
      "outputs": []
    },
    {
      "cell_type": "code",
      "source": [
        "model.fit(X_train, y_train)  #train our model\n",
        "preds = model.predict(X_test)        #testing our model"
      ],
      "metadata": {
        "id": "vOHdUerIjwUr"
      },
      "execution_count": null,
      "outputs": []
    },
    {
      "cell_type": "code",
      "source": [
        "if 'Attrition' in testdf.columns:\n",
        "    testdf.drop(columns=['Attrition'], inplace=True)\n",
        "\n",
        "train_columns = traindf.columns.drop('Attrition')\n",
        "\n",
        "categorical_columns = testdf.select_dtypes(include=['object', 'category']).columns\n",
        "\n",
        "testdf_encoded = pd.get_dummies(testdf, columns=categorical_columns)\n",
        "\n",
        "testdf_encoded = testdf_encoded.reindex(columns=train_columns, fill_value=0)\n",
        "\n",
        "test_preds = model.predict(testdf_encoded)\n"
      ],
      "metadata": {
        "id": "AF6qDObekJ4F"
      },
      "execution_count": null,
      "outputs": []
    },
    {
      "cell_type": "code",
      "source": [
        "from sklearn.metrics import accuracy_score\n",
        "\n",
        "accuracy = accuracy_score(y_test, preds)\n",
        "accuracy"
      ],
      "metadata": {
        "id": "yMomFbuKj1Wi"
      },
      "execution_count": null,
      "outputs": []
    },
    {
      "cell_type": "code",
      "source": [
        "from sklearn.metrics import accuracy_score,roc_auc_score,roc_curve\n",
        "\n",
        "rf_roc_auc = roc_auc_score(y_test, model.predict(X_test))\n",
        "\n",
        "rf_fpr, rf_tpr, rf_thresholds = roc_curve(y_test,model.predict_proba(X_test)[:,1])\n",
        "plt.figure()\n",
        "\n",
        "plt.plot(rf_fpr, rf_tpr, label='Random Forest (area = %0.2f)' % rf_roc_auc)\n",
        "plt.plot([0, 1], [0, 1],'r--')\n",
        "plt.xlim([0.0, 1.0])\n",
        "plt.ylim([0.0, 1.05])\n",
        "plt.xlabel('False Positive Rate')\n",
        "plt.ylabel('True Positive Rate')\n",
        "plt.title('Receiver operating characteristic')\n",
        "plt.legend(loc=\"lower right\")\n",
        "plt.savefig('TMM')\n",
        "plt.show()"
      ],
      "metadata": {
        "id": "VNiVUWE9j_l9"
      },
      "execution_count": null,
      "outputs": []
    },
    {
      "cell_type": "code",
      "source": [
        "train_prob = model.predict_proba(X_test)[:, 1]\n",
        "train_prob"
      ],
      "metadata": {
        "id": "WGqtq0olkDig"
      },
      "execution_count": null,
      "outputs": []
    },
    {
      "cell_type": "code",
      "source": [
        "test_acc = accuracy_score(y_test[:-19], test_preds)\n",
        "test_acc"
      ],
      "metadata": {
        "id": "lr59Denqkjoh"
      },
      "execution_count": null,
      "outputs": []
    },
    {
      "cell_type": "code",
      "source": [
        "if 'Attrition' in testdf.columns:\n",
        "    testdf.drop(columns=['Attrition'], inplace=True)\n",
        "train_columns = traindf.columns.drop('Attrition')\n",
        "categorical_columns = testdf.select_dtypes(include=['object', 'category']).columns\n",
        "testdf_encoded = pd.get_dummies(testdf, columns=categorical_columns)\n",
        "testdf_encoded = testdf_encoded.reindex(columns=train_columns, fill_value=0)\n",
        "missing_cols = set(train_columns) - set(testdf_encoded.columns)\n",
        "for col in missing_cols:\n",
        "    testdf_encoded[col] = 0\n",
        "testdf_encoded = testdf_encoded[train_columns]\n",
        "test_prob = model.predict_proba(testdf_encoded)[:, 1]\n",
        "test_prob\n"
      ],
      "metadata": {
        "id": "Ui-pJBgysRQM"
      },
      "execution_count": null,
      "outputs": []
    },
    {
      "cell_type": "code",
      "source": [
        "from sklearn.metrics import accuracy_score, roc_auc_score, roc_curve\n",
        "if 'Attrition' in testdf.columns:\n",
        "    testdf.drop(columns=['Attrition'], inplace=True)\n",
        "train_columns = traindf.columns.drop('Attrition')\n",
        "categorical_columns = testdf.select_dtypes(include=['object', 'category']).columns\n",
        "testdf_encoded = pd.get_dummies(testdf, columns=categorical_columns)\n",
        "testdf_encoded = testdf_encoded.reindex(columns=train_columns, fill_value=0)\n",
        "missing_cols = set(train_columns) - set(testdf_encoded.columns)\n",
        "for col in missing_cols:\n",
        "    testdf_encoded[col] = 0\n",
        "testdf_encoded = testdf_encoded[train_columns]\n",
        "rf_roc_auc = roc_auc_score(y_test[:-19], model.predict(testdf_encoded))\n",
        "rf_fpr, rf_tpr, rf_thresholds = roc_curve(y_test[:-19], model.predict_proba(testdf_encoded)[:, 1])\n",
        "plt.figure()\n",
        "plt.plot(rf_fpr, rf_tpr, label='Random Forest (area = %0.2f)' % rf_roc_auc)\n",
        "plt.plot([0, 1], [0, 1], 'r--')\n",
        "plt.xlim([0.0, 1.0])\n",
        "plt.ylim([0.0, 1.0])\n",
        "plt.xlabel('False Positive Rate')\n",
        "plt.ylabel('True Positive Rate')\n",
        "plt.title('Receiver operating characteristic')\n",
        "plt.legend(loc=\"lower right\")\n",
        "plt.savefig('TMM')\n",
        "plt.show()\n"
      ],
      "metadata": {
        "id": "F2NU8OR0s3NI"
      },
      "execution_count": null,
      "outputs": []
    }
  ]
}